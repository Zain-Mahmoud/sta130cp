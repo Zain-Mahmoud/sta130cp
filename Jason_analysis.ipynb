{
 "cells": [
  {
   "cell_type": "code",
   "execution_count": 1,
   "metadata": {},
   "outputs": [],
   "source": [
    "csvfile = \"dataV2_cohortV3.csv\""
   ]
  },
  {
   "cell_type": "code",
   "execution_count": 2,
   "metadata": {},
   "outputs": [],
   "source": [
    "import pandas as pd\n",
    "import numpy as np\n",
    "from sklearn.model_selection import train_test_split\n",
    "from sklearn.tree import DecisionTreeClassifier, plot_tree\n",
    "from sklearn.metrics import ConfusionMatrixDisplay, accuracy_score, recall_score, precision_score\n",
    "import statsmodels.formula.api as smf\n",
    "import matplotlib.pyplot as plt"
   ]
  },
  {
   "cell_type": "code",
   "execution_count": 3,
   "metadata": {},
   "outputs": [],
   "source": [
    "df = pd.read_csv(csvfile)"
   ]
  },
  {
   "cell_type": "code",
   "execution_count": 4,
   "metadata": {},
   "outputs": [],
   "source": [
    "# Mapping the variables to numeric values\n",
    "mapping_dict = {\n",
    "    'WELLNESS_malach_pines_burnout_measure_depressed': {\n",
    "        'Never': 0,\n",
    "        'Almost never': 1,\n",
    "        'Rarely': 2,\n",
    "        'Sometimes': 3,\n",
    "        'Very Often': 4,\n",
    "        'Always': 5\n",
    "    }\n",
    "}"
   ]
  },
  {
   "cell_type": "code",
   "execution_count": 5,
   "metadata": {},
   "outputs": [],
   "source": [
    "# Map values and rename\n",
    "\n",
    "# Create columns for OnlineGames and SocialFriends with 'C' (text) and numeric values\n",
    "df['OnlineGamesC'] = df['CONNECTION_activities_onlinegames_p3m']\n",
    "\n",
    "df['SocialFriendsC'] = df['CONNECTION_social_time_friends_p7d_grouped']\n",
    "\n",
    "# Create 'Depression' column with numeric values only\n",
    "df['DepressionC'] = df['WELLNESS_malach_pines_burnout_measure_depressed']\n",
    "df['DepressionN'] = df['WELLNESS_malach_pines_burnout_measure_depressed'].map(mapping_dict['WELLNESS_malach_pines_burnout_measure_depressed'])\n",
    "\n",
    "\n",
    "\n",
    "# Drop the original columns from df\n",
    "keep_cols = ['OnlineGamesC', 'SocialFriendsC', 'DepressionC', 'DepressionN']\n",
    "df = df[keep_cols]"
   ]
  },
  {
   "cell_type": "code",
   "execution_count": 6,
   "metadata": {},
   "outputs": [],
   "source": [
    "# Drop NA\n",
    "df = df.dropna()"
   ]
  },
  {
   "cell_type": "code",
   "execution_count": 7,
   "metadata": {},
   "outputs": [],
   "source": [
    "# Reorder the categories for OnlineGamesC to make \"Not in the past three months\" the reference category\n",
    "df['OnlineGamesC'] = pd.Categorical(df['OnlineGamesC'],\n",
    "                                           categories=['Not in the past three months', 'Less than monthly', 'Monthly', \n",
    "                                                       'A few times a month', 'Weekly', 'A few times a week', \n",
    "                                                       'Daily or almost daily'],\n",
    "                                           ordered=True)\n",
    "\n",
    "# Reorder the categories for SocialFriendsC to make \"No time\" the reference category\n",
    "df['SocialFriendsC'] = pd.Categorical(df['SocialFriendsC'],\n",
    "                                            categories=['No time', 'Less than 1 hour', '1 to 4 hours', '5 or more hours'],\n",
    "                                            ordered=True)\n"
   ]
  },
  {
   "cell_type": "code",
   "execution_count": 8,
   "metadata": {},
   "outputs": [],
   "source": [
    "df[\"OnlineGamesB\"] = df[\"OnlineGamesC\"] != \"Not in the past three months\"\n",
    "df['SocialFriendsB'] = df['SocialFriendsC'] != 'No time'"
   ]
  },
  {
   "cell_type": "code",
   "execution_count": null,
   "metadata": {},
   "outputs": [],
   "source": [
    "df"
   ]
  },
  {
   "cell_type": "code",
   "execution_count": null,
   "metadata": {},
   "outputs": [],
   "source": [
    "train_df, test_df = train_test_split(df, test_size=0.2, random_state=42)\n",
    "len(train_df), len(test_df)"
   ]
  },
  {
   "cell_type": "code",
   "execution_count": null,
   "metadata": {},
   "outputs": [],
   "source": [
    "# Fit the OLS model using categorical values (OnlineGamesC and SocialFriendsC)\n",
    "ols_model_c = smf.ols(\"DepressionN ~ C(OnlineGamesC) + C(SocialFriendsC)\", data=train_df)\n",
    "\n",
    "fitted_ols_model_c = ols_model_c.fit()\n",
    "# Display the regression results\n",
    "fitted_ols_model_c.summary()"
   ]
  },
  {
   "cell_type": "code",
   "execution_count": null,
   "metadata": {},
   "outputs": [],
   "source": [
    "# Fit the OLS model using categorical values (OnlineGamesB and SocialFriendsC)\n",
    "# Binary values for online games\n",
    "ols_model_b = smf.ols(\"DepressionN ~ C(OnlineGamesB) + C(SocialFriendsC)\", data=train_df)\n",
    "\n",
    "fitted_ols_model_b = ols_model_b.fit()\n",
    "\n",
    "# Display the regression results\n",
    "fitted_ols_model_b.summary()\n"
   ]
  },
  {
   "cell_type": "code",
   "execution_count": 13,
   "metadata": {},
   "outputs": [],
   "source": [
    "clf = DecisionTreeClassifier(max_depth=10, random_state=10)\n",
    "\n",
    "y_train = train_df['DepressionC']\n",
    "X_train = pd.get_dummies(train_df[['OnlineGamesC', 'SocialFriendsC', 'OnlineGamesB', 'SocialFriendsB']])\n",
    "\n",
    "y_test = test_df['DepressionC']\n",
    "X_test = pd.get_dummies(test_df[['OnlineGamesC', 'SocialFriendsC', 'OnlineGamesB', 'SocialFriendsB']])"
   ]
  },
  {
   "cell_type": "code",
   "execution_count": null,
   "metadata": {},
   "outputs": [],
   "source": [
    "clf.fit(X_train, y_train)"
   ]
  },
  {
   "cell_type": "code",
   "execution_count": null,
   "metadata": {},
   "outputs": [],
   "source": [
    "fig, ax = plt.subplots(figsize=(100, 100))\n",
    "plot_tree(clf, ax=ax, fontsize=22, feature_names=X_train.columns, class_names=clf.classes_)\n",
    "plt.show()"
   ]
  },
  {
   "cell_type": "code",
   "execution_count": null,
   "metadata": {},
   "outputs": [],
   "source": [
    "cm_display = ConfusionMatrixDisplay.from_estimator(clf, X_test, y_test)\n",
    "cm = cm_display.confusion_matrix"
   ]
  },
  {
   "cell_type": "code",
   "execution_count": null,
   "metadata": {},
   "outputs": [],
   "source": [
    "y_pred = clf.predict(X_test)\n",
    "\n",
    "# accuracy = accuracy_score(y_test, y_pred)\n",
    "# sensitivity = recall_score(y_test, y_pred, average='macro')\n",
    "# specificity = recall_score(y_test, y_pred, pos_label='Almost never', average='macro')\n",
    "# precision = precision_score(y_test, y_pred, average='macro')"
   ]
  },
  {
   "cell_type": "code",
   "execution_count": null,
   "metadata": {},
   "outputs": [],
   "source": [
    "# print(f\"accuracy: {accuracy}\")\n",
    "# print(f\"sensitivity: {sensitivity}\")\n",
    "# print(f\"specificity: {specificity}\")\n",
    "# print(f\"precision: {precision}\")"
   ]
  }
 ],
 "metadata": {
  "kernelspec": {
   "display_name": "Python 3",
   "language": "python",
   "name": "python3"
  },
  "language_info": {
   "codemirror_mode": {
    "name": "ipython",
    "version": 3
   },
   "file_extension": ".py",
   "mimetype": "text/x-python",
   "name": "python",
   "nbconvert_exporter": "python",
   "pygments_lexer": "ipython3",
   "version": "3.12.4"
  }
 },
 "nbformat": 4,
 "nbformat_minor": 2
}
