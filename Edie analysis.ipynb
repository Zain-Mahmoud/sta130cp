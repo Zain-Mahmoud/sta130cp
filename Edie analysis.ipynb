{
 "cells": [
  {
   "cell_type": "code",
   "execution_count": 9,
   "id": "5851d357",
   "metadata": {},
   "outputs": [
    {
     "name": "stdout",
     "output_type": "stream",
     "text": [
      "                                  LONELY_direct  \\\n",
      "0                 Rarely (e.g. less than 1 day)   \n",
      "1  Some or a little of the time (e.g. 1-2 days)   \n",
      "2               None of the time (e.g., 0 days)   \n",
      "3  Some or a little of the time (e.g. 1-2 days)   \n",
      "4               None of the time (e.g., 0 days)   \n",
      "\n",
      "  CONNECTION_activities_text_or_messaged_p3m  \n",
      "0                                     Weekly  \n",
      "1                                     Weekly  \n",
      "2                         A few times a week  \n",
      "3                        A few times a month  \n",
      "4                                     Weekly  \n"
     ]
    }
   ],
   "source": [
    "import pandas as pd\n",
    "\n",
    "# Load the dataset\n",
    "file_path = 'dataV2_cohortV3.csv'  # Update the file path as needed\n",
    "data = pd.read_csv(file_path)\n",
    "\n",
    "# Subset the desired columns\n",
    "subset_data = data[['LONELY_direct', 'CONNECTION_activities_text_or_messaged_p3m']]\n",
    "\n",
    "# Display the first few rows of the subset\n",
    "print(subset_data.head())\n"
   ]
  },
  {
   "cell_type": "code",
   "execution_count": 12,
   "id": "408d8b2b",
   "metadata": {},
   "outputs": [
    {
     "name": "stdout",
     "output_type": "stream",
     "text": [
      "Count of non-missing data for each column:\n",
      "LONELY_direct                                 816\n",
      "CONNECTION_activities_text_or_messaged_p3m    834\n",
      "dtype: int64\n"
     ]
    }
   ],
   "source": [
    "import pandas as pd\n",
    "\n",
    "# Load the dataset\n",
    "file_path = 'dataV2_cohortV3.csv'  # Update the file path as needed\n",
    "data = pd.read_csv(file_path)\n",
    "\n",
    "# Calculate the count of non-missing data for the specified columns\n",
    "counts = data[['LONELY_direct', 'CONNECTION_activities_text_or_messaged_p3m']].count()\n",
    "\n",
    "# Display the counts\n",
    "print(\"Count of non-missing data for each column:\")\n",
    "print(counts)\n"
   ]
  },
  {
   "cell_type": "code",
   "execution_count": null,
   "id": "35b758e5",
   "metadata": {},
   "outputs": [],
   "source": []
  }
 ],
 "metadata": {
  "kernelspec": {
   "display_name": "Python 3 (ipykernel)",
   "language": "python",
   "name": "python3"
  },
  "language_info": {
   "codemirror_mode": {
    "name": "ipython",
    "version": 3
   },
   "file_extension": ".py",
   "mimetype": "text/x-python",
   "name": "python",
   "nbconvert_exporter": "python",
   "pygments_lexer": "ipython3",
   "version": "3.11.6"
  }
 },
 "nbformat": 4,
 "nbformat_minor": 5
}
