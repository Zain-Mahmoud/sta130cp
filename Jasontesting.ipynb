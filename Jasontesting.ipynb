{
 "cells": [
  {
   "cell_type": "code",
   "execution_count": 1,
   "metadata": {},
   "outputs": [],
   "source": [
    "csvfile = \"dataV2_cohortV3.csv\""
   ]
  },
  {
   "cell_type": "code",
   "execution_count": 2,
   "metadata": {},
   "outputs": [],
   "source": [
    "import pandas as pd\n",
    "import statsmodels.formula.api as smf\n",
    "import numpy as np"
   ]
  },
  {
   "cell_type": "code",
   "execution_count": 3,
   "metadata": {},
   "outputs": [],
   "source": [
    "df = pd.read_csv(csvfile)"
   ]
  },
  {
   "cell_type": "code",
   "execution_count": 4,
   "metadata": {},
   "outputs": [],
   "source": [
    "# Mapping the variables to numeric values\n",
    "mapping_dict = {\n",
    "    'CONNECTION_activities_onlinegames_p3m': {\n",
    "        'Not in the past three months': 0,\n",
    "        'Less than monthly': 1,\n",
    "        'Monthly': 2,\n",
    "        'A few times a month': 3,\n",
    "        'Weekly': 4,\n",
    "        'A few times a week': 5,\n",
    "        'Daily or almost daily': 6\n",
    "    },\n",
    "    'CONNECTION_social_time_friends_p7d_grouped': {\n",
    "        'No time': 0,\n",
    "        'Less than 1 hour': 1,\n",
    "        '1 to 4 hours': 2,\n",
    "        '5 or more hours': 3\n",
    "    },\n",
    "    'WELLNESS_malach_pines_burnout_measure_depressed': {\n",
    "        'Never': 0,\n",
    "        'Almost never': 1,\n",
    "        'Rarely': 2,\n",
    "        'Sometimes': 3,\n",
    "        'Very Often': 4,\n",
    "        'Always': 5\n",
    "    }\n",
    "}\n",
    "\n",
    "mapped_df = df.copy()"
   ]
  },
  {
   "cell_type": "code",
   "execution_count": 5,
   "metadata": {},
   "outputs": [],
   "source": [
    "# Filter mapped_df to only include the desired columns\n",
    "mapped_df = mapped_df[list(mapping_dict.keys())]"
   ]
  },
  {
   "cell_type": "code",
   "execution_count": 6,
   "metadata": {},
   "outputs": [],
   "source": [
    "# Map values\n",
    "for column, mapping in mapping_dict.items():\n",
    "    if column in mapped_df.columns:\n",
    "        mapped_df[column] = mapped_df[column].map(mapping)"
   ]
  },
  {
   "cell_type": "code",
   "execution_count": 7,
   "metadata": {},
   "outputs": [],
   "source": [
    "# Drop NA\n",
    "mapped_df = mapped_df.dropna()"
   ]
  },
  {
   "cell_type": "code",
   "execution_count": 8,
   "metadata": {},
   "outputs": [
    {
     "data": {
      "text/html": [
       "<div>\n",
       "<style scoped>\n",
       "    .dataframe tbody tr th:only-of-type {\n",
       "        vertical-align: middle;\n",
       "    }\n",
       "\n",
       "    .dataframe tbody tr th {\n",
       "        vertical-align: top;\n",
       "    }\n",
       "\n",
       "    .dataframe thead th {\n",
       "        text-align: right;\n",
       "    }\n",
       "</style>\n",
       "<table border=\"1\" class=\"dataframe\">\n",
       "  <thead>\n",
       "    <tr style=\"text-align: right;\">\n",
       "      <th></th>\n",
       "      <th>CONNECTION_activities_onlinegames_p3m</th>\n",
       "      <th>CONNECTION_social_time_friends_p7d_grouped</th>\n",
       "      <th>WELLNESS_malach_pines_burnout_measure_depressed</th>\n",
       "    </tr>\n",
       "  </thead>\n",
       "  <tbody>\n",
       "    <tr>\n",
       "      <th>0</th>\n",
       "      <td>0.0</td>\n",
       "      <td>3.0</td>\n",
       "      <td>2.0</td>\n",
       "    </tr>\n",
       "    <tr>\n",
       "      <th>1</th>\n",
       "      <td>0.0</td>\n",
       "      <td>3.0</td>\n",
       "      <td>1.0</td>\n",
       "    </tr>\n",
       "    <tr>\n",
       "      <th>2</th>\n",
       "      <td>0.0</td>\n",
       "      <td>3.0</td>\n",
       "      <td>1.0</td>\n",
       "    </tr>\n",
       "    <tr>\n",
       "      <th>3</th>\n",
       "      <td>4.0</td>\n",
       "      <td>2.0</td>\n",
       "      <td>2.0</td>\n",
       "    </tr>\n",
       "    <tr>\n",
       "      <th>4</th>\n",
       "      <td>4.0</td>\n",
       "      <td>3.0</td>\n",
       "      <td>1.0</td>\n",
       "    </tr>\n",
       "    <tr>\n",
       "      <th>...</th>\n",
       "      <td>...</td>\n",
       "      <td>...</td>\n",
       "      <td>...</td>\n",
       "    </tr>\n",
       "    <tr>\n",
       "      <th>844</th>\n",
       "      <td>0.0</td>\n",
       "      <td>2.0</td>\n",
       "      <td>5.0</td>\n",
       "    </tr>\n",
       "    <tr>\n",
       "      <th>845</th>\n",
       "      <td>0.0</td>\n",
       "      <td>2.0</td>\n",
       "      <td>4.0</td>\n",
       "    </tr>\n",
       "    <tr>\n",
       "      <th>846</th>\n",
       "      <td>0.0</td>\n",
       "      <td>1.0</td>\n",
       "      <td>5.0</td>\n",
       "    </tr>\n",
       "    <tr>\n",
       "      <th>847</th>\n",
       "      <td>0.0</td>\n",
       "      <td>3.0</td>\n",
       "      <td>3.0</td>\n",
       "    </tr>\n",
       "    <tr>\n",
       "      <th>849</th>\n",
       "      <td>0.0</td>\n",
       "      <td>0.0</td>\n",
       "      <td>2.0</td>\n",
       "    </tr>\n",
       "  </tbody>\n",
       "</table>\n",
       "<p>687 rows × 3 columns</p>\n",
       "</div>"
      ],
      "text/plain": [
       "     CONNECTION_activities_onlinegames_p3m  \\\n",
       "0                                      0.0   \n",
       "1                                      0.0   \n",
       "2                                      0.0   \n",
       "3                                      4.0   \n",
       "4                                      4.0   \n",
       "..                                     ...   \n",
       "844                                    0.0   \n",
       "845                                    0.0   \n",
       "846                                    0.0   \n",
       "847                                    0.0   \n",
       "849                                    0.0   \n",
       "\n",
       "     CONNECTION_social_time_friends_p7d_grouped  \\\n",
       "0                                           3.0   \n",
       "1                                           3.0   \n",
       "2                                           3.0   \n",
       "3                                           2.0   \n",
       "4                                           3.0   \n",
       "..                                          ...   \n",
       "844                                         2.0   \n",
       "845                                         2.0   \n",
       "846                                         1.0   \n",
       "847                                         3.0   \n",
       "849                                         0.0   \n",
       "\n",
       "     WELLNESS_malach_pines_burnout_measure_depressed  \n",
       "0                                                2.0  \n",
       "1                                                1.0  \n",
       "2                                                1.0  \n",
       "3                                                2.0  \n",
       "4                                                1.0  \n",
       "..                                               ...  \n",
       "844                                              5.0  \n",
       "845                                              4.0  \n",
       "846                                              5.0  \n",
       "847                                              3.0  \n",
       "849                                              2.0  \n",
       "\n",
       "[687 rows x 3 columns]"
      ]
     },
     "execution_count": 8,
     "metadata": {},
     "output_type": "execute_result"
    }
   ],
   "source": [
    "mapped_df"
   ]
  }
 ],
 "metadata": {
  "kernelspec": {
   "display_name": "Python 3",
   "language": "python",
   "name": "python3"
  },
  "language_info": {
   "codemirror_mode": {
    "name": "ipython",
    "version": 3
   },
   "file_extension": ".py",
   "mimetype": "text/x-python",
   "name": "python",
   "nbconvert_exporter": "python",
   "pygments_lexer": "ipython3",
   "version": "3.12.4"
  }
 },
 "nbformat": 4,
 "nbformat_minor": 2
}
